{
 "cells": [
  {
   "cell_type": "code",
   "execution_count": 9,
   "id": "b34baff2",
   "metadata": {},
   "outputs": [],
   "source": [
    "import pandas"
   ]
  },
  {
   "cell_type": "code",
   "execution_count": 10,
   "id": "25847b78",
   "metadata": {},
   "outputs": [],
   "source": [
    "data = pandas.read_excel(\"data/kota.xls\", index_col=0)"
   ]
  },
  {
   "cell_type": "code",
   "execution_count": 13,
   "id": "421e5815",
   "metadata": {},
   "outputs": [
    {
     "data": {
      "text/plain": [
       "<bound method Series.unique of 1           ALUE BAGOK\n",
       "2           ALUE BATEE\n",
       "3          ALUE SUNDAK\n",
       "4              ARONGAN\n",
       "5            COT BULOH\n",
       "             ...      \n",
       "65531    AMPAR BENTENG\n",
       "65532             BANA\n",
       "65533      BANGUN SARI\n",
       "65534          BENTENG\n",
       "65535    DHARMA BHAKTI\n",
       "Name: SUB_DISTRICT_NM, Length: 65535, dtype: object>"
      ]
     },
     "execution_count": 13,
     "metadata": {},
     "output_type": "execute_result"
    }
   ],
   "source": [
    "data['SUB_DISTRICT_NM'].unique"
   ]
  },
  {
   "cell_type": "code",
   "execution_count": 21,
   "id": "57651c13",
   "metadata": {},
   "outputs": [
    {
     "data": {
      "text/plain": [
       "Int64Index([0], dtype='int64')"
      ]
     },
     "execution_count": 21,
     "metadata": {},
     "output_type": "execute_result"
    }
   ],
   "source": [
    "data.columns"
   ]
  },
  {
   "cell_type": "code",
   "execution_count": null,
   "id": "45d4b37a",
   "metadata": {},
   "outputs": [],
   "source": []
  }
 ],
 "metadata": {
  "kernelspec": {
   "display_name": "Python 3",
   "language": "python",
   "name": "python3"
  },
  "language_info": {
   "codemirror_mode": {
    "name": "ipython",
    "version": 3
   },
   "file_extension": ".py",
   "mimetype": "text/x-python",
   "name": "python",
   "nbconvert_exporter": "python",
   "pygments_lexer": "ipython3",
   "version": "3.8.8"
  }
 },
 "nbformat": 4,
 "nbformat_minor": 5
}
